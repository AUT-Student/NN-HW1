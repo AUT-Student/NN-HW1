{
  "nbformat": 4,
  "nbformat_minor": 0,
  "metadata": {
    "colab": {
      "name": "NN-HW1.ipynb",
      "provenance": [],
      "toc_visible": true,
      "collapsed_sections": [],
      "authorship_tag": "ABX9TyNI3jqwGqL7KMXvbbSuXbk2",
      "include_colab_link": true
    },
    "kernelspec": {
      "name": "python3",
      "display_name": "Python 3"
    },
    "language_info": {
      "name": "python"
    }
  },
  "cells": [
    {
      "cell_type": "markdown",
      "metadata": {
        "id": "view-in-github",
        "colab_type": "text"
      },
      "source": [
        "<a href=\"https://colab.research.google.com/github/AUT-Student/NN-HW1/blob/main/NN_HW1.ipynb\" target=\"_parent\"><img src=\"https://colab.research.google.com/assets/colab-badge.svg\" alt=\"Open In Colab\"/></a>"
      ]
    },
    {
      "cell_type": "markdown",
      "source": [
        "# Libraries"
      ],
      "metadata": {
        "id": "4RorHoYB-kwI"
      }
    },
    {
      "cell_type": "code",
      "source": [
        "import pandas as pd\n",
        "import numpy as np\n",
        "import matplotlib.pyplot as plt\n",
        "from sklearn.decomposition import PCA\n",
        "import tensorflow as tf"
      ],
      "metadata": {
        "id": "oljmnM5X-m5a"
      },
      "execution_count": 1,
      "outputs": []
    },
    {
      "cell_type": "markdown",
      "source": [
        "# Loading"
      ],
      "metadata": {
        "id": "ukVUoIUV_Fct"
      }
    },
    {
      "cell_type": "code",
      "execution_count": 2,
      "metadata": {
        "colab": {
          "base_uri": "https://localhost:8080/"
        },
        "id": "WYpROVcS9id5",
        "outputId": "978512cd-b73a-4f3d-df24-2e7ea0aa976c"
      },
      "outputs": [
        {
          "output_type": "stream",
          "name": "stdout",
          "text": [
            "Downloading...\n",
            "From: https://archive.ics.uci.edu/ml/machine-learning-databases/credit-screening/crx.data\n",
            "To: /content/crx.data\n",
            "\r  0% 0.00/32.2k [00:00<?, ?B/s]\r100% 32.2k/32.2k [00:00<00:00, 1.25MB/s]\n"
          ]
        }
      ],
      "source": [
        "!gdown https://archive.ics.uci.edu/ml/machine-learning-databases/credit-screening/crx.data"
      ]
    },
    {
      "cell_type": "code",
      "source": [
        "data = pd.read_csv(\"/content/crx.data\", header=None,\n",
        "                   names=[\"A1\", \"A2\", \"A3\", \"A4\", \"A5\", \"A6\", \"A7\", \"A8\", \"A9\", \"A10\", \"A11\", \"A12\", \"A13\", \"A14\", \"A15\", \"A16\"])"
      ],
      "metadata": {
        "id": "OgX0LItx-gKP"
      },
      "execution_count": 3,
      "outputs": []
    },
    {
      "cell_type": "code",
      "source": [
        "data"
      ],
      "metadata": {
        "colab": {
          "base_uri": "https://localhost:8080/",
          "height": 423
        },
        "id": "tvxX1pn4_KpA",
        "outputId": "de0837d1-cd81-4198-b4e2-beae4b8f7130"
      },
      "execution_count": 4,
      "outputs": [
        {
          "output_type": "execute_result",
          "data": {
            "text/html": [
              "\n",
              "  <div id=\"df-585fbeb2-bc78-41f7-be1f-64c4acf37087\">\n",
              "    <div class=\"colab-df-container\">\n",
              "      <div>\n",
              "<style scoped>\n",
              "    .dataframe tbody tr th:only-of-type {\n",
              "        vertical-align: middle;\n",
              "    }\n",
              "\n",
              "    .dataframe tbody tr th {\n",
              "        vertical-align: top;\n",
              "    }\n",
              "\n",
              "    .dataframe thead th {\n",
              "        text-align: right;\n",
              "    }\n",
              "</style>\n",
              "<table border=\"1\" class=\"dataframe\">\n",
              "  <thead>\n",
              "    <tr style=\"text-align: right;\">\n",
              "      <th></th>\n",
              "      <th>A1</th>\n",
              "      <th>A2</th>\n",
              "      <th>A3</th>\n",
              "      <th>A4</th>\n",
              "      <th>A5</th>\n",
              "      <th>A6</th>\n",
              "      <th>A7</th>\n",
              "      <th>A8</th>\n",
              "      <th>A9</th>\n",
              "      <th>A10</th>\n",
              "      <th>A11</th>\n",
              "      <th>A12</th>\n",
              "      <th>A13</th>\n",
              "      <th>A14</th>\n",
              "      <th>A15</th>\n",
              "      <th>A16</th>\n",
              "    </tr>\n",
              "  </thead>\n",
              "  <tbody>\n",
              "    <tr>\n",
              "      <th>0</th>\n",
              "      <td>b</td>\n",
              "      <td>30.83</td>\n",
              "      <td>0.000</td>\n",
              "      <td>u</td>\n",
              "      <td>g</td>\n",
              "      <td>w</td>\n",
              "      <td>v</td>\n",
              "      <td>1.25</td>\n",
              "      <td>t</td>\n",
              "      <td>t</td>\n",
              "      <td>1</td>\n",
              "      <td>f</td>\n",
              "      <td>g</td>\n",
              "      <td>00202</td>\n",
              "      <td>0</td>\n",
              "      <td>+</td>\n",
              "    </tr>\n",
              "    <tr>\n",
              "      <th>1</th>\n",
              "      <td>a</td>\n",
              "      <td>58.67</td>\n",
              "      <td>4.460</td>\n",
              "      <td>u</td>\n",
              "      <td>g</td>\n",
              "      <td>q</td>\n",
              "      <td>h</td>\n",
              "      <td>3.04</td>\n",
              "      <td>t</td>\n",
              "      <td>t</td>\n",
              "      <td>6</td>\n",
              "      <td>f</td>\n",
              "      <td>g</td>\n",
              "      <td>00043</td>\n",
              "      <td>560</td>\n",
              "      <td>+</td>\n",
              "    </tr>\n",
              "    <tr>\n",
              "      <th>2</th>\n",
              "      <td>a</td>\n",
              "      <td>24.50</td>\n",
              "      <td>0.500</td>\n",
              "      <td>u</td>\n",
              "      <td>g</td>\n",
              "      <td>q</td>\n",
              "      <td>h</td>\n",
              "      <td>1.50</td>\n",
              "      <td>t</td>\n",
              "      <td>f</td>\n",
              "      <td>0</td>\n",
              "      <td>f</td>\n",
              "      <td>g</td>\n",
              "      <td>00280</td>\n",
              "      <td>824</td>\n",
              "      <td>+</td>\n",
              "    </tr>\n",
              "    <tr>\n",
              "      <th>3</th>\n",
              "      <td>b</td>\n",
              "      <td>27.83</td>\n",
              "      <td>1.540</td>\n",
              "      <td>u</td>\n",
              "      <td>g</td>\n",
              "      <td>w</td>\n",
              "      <td>v</td>\n",
              "      <td>3.75</td>\n",
              "      <td>t</td>\n",
              "      <td>t</td>\n",
              "      <td>5</td>\n",
              "      <td>t</td>\n",
              "      <td>g</td>\n",
              "      <td>00100</td>\n",
              "      <td>3</td>\n",
              "      <td>+</td>\n",
              "    </tr>\n",
              "    <tr>\n",
              "      <th>4</th>\n",
              "      <td>b</td>\n",
              "      <td>20.17</td>\n",
              "      <td>5.625</td>\n",
              "      <td>u</td>\n",
              "      <td>g</td>\n",
              "      <td>w</td>\n",
              "      <td>v</td>\n",
              "      <td>1.71</td>\n",
              "      <td>t</td>\n",
              "      <td>f</td>\n",
              "      <td>0</td>\n",
              "      <td>f</td>\n",
              "      <td>s</td>\n",
              "      <td>00120</td>\n",
              "      <td>0</td>\n",
              "      <td>+</td>\n",
              "    </tr>\n",
              "    <tr>\n",
              "      <th>...</th>\n",
              "      <td>...</td>\n",
              "      <td>...</td>\n",
              "      <td>...</td>\n",
              "      <td>...</td>\n",
              "      <td>...</td>\n",
              "      <td>...</td>\n",
              "      <td>...</td>\n",
              "      <td>...</td>\n",
              "      <td>...</td>\n",
              "      <td>...</td>\n",
              "      <td>...</td>\n",
              "      <td>...</td>\n",
              "      <td>...</td>\n",
              "      <td>...</td>\n",
              "      <td>...</td>\n",
              "      <td>...</td>\n",
              "    </tr>\n",
              "    <tr>\n",
              "      <th>685</th>\n",
              "      <td>b</td>\n",
              "      <td>21.08</td>\n",
              "      <td>10.085</td>\n",
              "      <td>y</td>\n",
              "      <td>p</td>\n",
              "      <td>e</td>\n",
              "      <td>h</td>\n",
              "      <td>1.25</td>\n",
              "      <td>f</td>\n",
              "      <td>f</td>\n",
              "      <td>0</td>\n",
              "      <td>f</td>\n",
              "      <td>g</td>\n",
              "      <td>00260</td>\n",
              "      <td>0</td>\n",
              "      <td>-</td>\n",
              "    </tr>\n",
              "    <tr>\n",
              "      <th>686</th>\n",
              "      <td>a</td>\n",
              "      <td>22.67</td>\n",
              "      <td>0.750</td>\n",
              "      <td>u</td>\n",
              "      <td>g</td>\n",
              "      <td>c</td>\n",
              "      <td>v</td>\n",
              "      <td>2.00</td>\n",
              "      <td>f</td>\n",
              "      <td>t</td>\n",
              "      <td>2</td>\n",
              "      <td>t</td>\n",
              "      <td>g</td>\n",
              "      <td>00200</td>\n",
              "      <td>394</td>\n",
              "      <td>-</td>\n",
              "    </tr>\n",
              "    <tr>\n",
              "      <th>687</th>\n",
              "      <td>a</td>\n",
              "      <td>25.25</td>\n",
              "      <td>13.500</td>\n",
              "      <td>y</td>\n",
              "      <td>p</td>\n",
              "      <td>ff</td>\n",
              "      <td>ff</td>\n",
              "      <td>2.00</td>\n",
              "      <td>f</td>\n",
              "      <td>t</td>\n",
              "      <td>1</td>\n",
              "      <td>t</td>\n",
              "      <td>g</td>\n",
              "      <td>00200</td>\n",
              "      <td>1</td>\n",
              "      <td>-</td>\n",
              "    </tr>\n",
              "    <tr>\n",
              "      <th>688</th>\n",
              "      <td>b</td>\n",
              "      <td>17.92</td>\n",
              "      <td>0.205</td>\n",
              "      <td>u</td>\n",
              "      <td>g</td>\n",
              "      <td>aa</td>\n",
              "      <td>v</td>\n",
              "      <td>0.04</td>\n",
              "      <td>f</td>\n",
              "      <td>f</td>\n",
              "      <td>0</td>\n",
              "      <td>f</td>\n",
              "      <td>g</td>\n",
              "      <td>00280</td>\n",
              "      <td>750</td>\n",
              "      <td>-</td>\n",
              "    </tr>\n",
              "    <tr>\n",
              "      <th>689</th>\n",
              "      <td>b</td>\n",
              "      <td>35.00</td>\n",
              "      <td>3.375</td>\n",
              "      <td>u</td>\n",
              "      <td>g</td>\n",
              "      <td>c</td>\n",
              "      <td>h</td>\n",
              "      <td>8.29</td>\n",
              "      <td>f</td>\n",
              "      <td>f</td>\n",
              "      <td>0</td>\n",
              "      <td>t</td>\n",
              "      <td>g</td>\n",
              "      <td>00000</td>\n",
              "      <td>0</td>\n",
              "      <td>-</td>\n",
              "    </tr>\n",
              "  </tbody>\n",
              "</table>\n",
              "<p>690 rows × 16 columns</p>\n",
              "</div>\n",
              "      <button class=\"colab-df-convert\" onclick=\"convertToInteractive('df-585fbeb2-bc78-41f7-be1f-64c4acf37087')\"\n",
              "              title=\"Convert this dataframe to an interactive table.\"\n",
              "              style=\"display:none;\">\n",
              "        \n",
              "  <svg xmlns=\"http://www.w3.org/2000/svg\" height=\"24px\"viewBox=\"0 0 24 24\"\n",
              "       width=\"24px\">\n",
              "    <path d=\"M0 0h24v24H0V0z\" fill=\"none\"/>\n",
              "    <path d=\"M18.56 5.44l.94 2.06.94-2.06 2.06-.94-2.06-.94-.94-2.06-.94 2.06-2.06.94zm-11 1L8.5 8.5l.94-2.06 2.06-.94-2.06-.94L8.5 2.5l-.94 2.06-2.06.94zm10 10l.94 2.06.94-2.06 2.06-.94-2.06-.94-.94-2.06-.94 2.06-2.06.94z\"/><path d=\"M17.41 7.96l-1.37-1.37c-.4-.4-.92-.59-1.43-.59-.52 0-1.04.2-1.43.59L10.3 9.45l-7.72 7.72c-.78.78-.78 2.05 0 2.83L4 21.41c.39.39.9.59 1.41.59.51 0 1.02-.2 1.41-.59l7.78-7.78 2.81-2.81c.8-.78.8-2.07 0-2.86zM5.41 20L4 18.59l7.72-7.72 1.47 1.35L5.41 20z\"/>\n",
              "  </svg>\n",
              "      </button>\n",
              "      \n",
              "  <style>\n",
              "    .colab-df-container {\n",
              "      display:flex;\n",
              "      flex-wrap:wrap;\n",
              "      gap: 12px;\n",
              "    }\n",
              "\n",
              "    .colab-df-convert {\n",
              "      background-color: #E8F0FE;\n",
              "      border: none;\n",
              "      border-radius: 50%;\n",
              "      cursor: pointer;\n",
              "      display: none;\n",
              "      fill: #1967D2;\n",
              "      height: 32px;\n",
              "      padding: 0 0 0 0;\n",
              "      width: 32px;\n",
              "    }\n",
              "\n",
              "    .colab-df-convert:hover {\n",
              "      background-color: #E2EBFA;\n",
              "      box-shadow: 0px 1px 2px rgba(60, 64, 67, 0.3), 0px 1px 3px 1px rgba(60, 64, 67, 0.15);\n",
              "      fill: #174EA6;\n",
              "    }\n",
              "\n",
              "    [theme=dark] .colab-df-convert {\n",
              "      background-color: #3B4455;\n",
              "      fill: #D2E3FC;\n",
              "    }\n",
              "\n",
              "    [theme=dark] .colab-df-convert:hover {\n",
              "      background-color: #434B5C;\n",
              "      box-shadow: 0px 1px 3px 1px rgba(0, 0, 0, 0.15);\n",
              "      filter: drop-shadow(0px 1px 2px rgba(0, 0, 0, 0.3));\n",
              "      fill: #FFFFFF;\n",
              "    }\n",
              "  </style>\n",
              "\n",
              "      <script>\n",
              "        const buttonEl =\n",
              "          document.querySelector('#df-585fbeb2-bc78-41f7-be1f-64c4acf37087 button.colab-df-convert');\n",
              "        buttonEl.style.display =\n",
              "          google.colab.kernel.accessAllowed ? 'block' : 'none';\n",
              "\n",
              "        async function convertToInteractive(key) {\n",
              "          const element = document.querySelector('#df-585fbeb2-bc78-41f7-be1f-64c4acf37087');\n",
              "          const dataTable =\n",
              "            await google.colab.kernel.invokeFunction('convertToInteractive',\n",
              "                                                     [key], {});\n",
              "          if (!dataTable) return;\n",
              "\n",
              "          const docLinkHtml = 'Like what you see? Visit the ' +\n",
              "            '<a target=\"_blank\" href=https://colab.research.google.com/notebooks/data_table.ipynb>data table notebook</a>'\n",
              "            + ' to learn more about interactive tables.';\n",
              "          element.innerHTML = '';\n",
              "          dataTable['output_type'] = 'display_data';\n",
              "          await google.colab.output.renderOutput(dataTable, element);\n",
              "          const docLink = document.createElement('div');\n",
              "          docLink.innerHTML = docLinkHtml;\n",
              "          element.appendChild(docLink);\n",
              "        }\n",
              "      </script>\n",
              "    </div>\n",
              "  </div>\n",
              "  "
            ],
            "text/plain": [
              "    A1     A2      A3 A4 A5  A6  A7    A8 A9 A10  A11 A12 A13    A14  A15 A16\n",
              "0    b  30.83   0.000  u  g   w   v  1.25  t   t    1   f   g  00202    0   +\n",
              "1    a  58.67   4.460  u  g   q   h  3.04  t   t    6   f   g  00043  560   +\n",
              "2    a  24.50   0.500  u  g   q   h  1.50  t   f    0   f   g  00280  824   +\n",
              "3    b  27.83   1.540  u  g   w   v  3.75  t   t    5   t   g  00100    3   +\n",
              "4    b  20.17   5.625  u  g   w   v  1.71  t   f    0   f   s  00120    0   +\n",
              "..  ..    ...     ... .. ..  ..  ..   ... ..  ..  ...  ..  ..    ...  ...  ..\n",
              "685  b  21.08  10.085  y  p   e   h  1.25  f   f    0   f   g  00260    0   -\n",
              "686  a  22.67   0.750  u  g   c   v  2.00  f   t    2   t   g  00200  394   -\n",
              "687  a  25.25  13.500  y  p  ff  ff  2.00  f   t    1   t   g  00200    1   -\n",
              "688  b  17.92   0.205  u  g  aa   v  0.04  f   f    0   f   g  00280  750   -\n",
              "689  b  35.00   3.375  u  g   c   h  8.29  f   f    0   t   g  00000    0   -\n",
              "\n",
              "[690 rows x 16 columns]"
            ]
          },
          "metadata": {},
          "execution_count": 4
        }
      ]
    },
    {
      "cell_type": "markdown",
      "source": [
        "# Preprocessing"
      ],
      "metadata": {
        "id": "_OxaA3KJ_Hix"
      }
    },
    {
      "cell_type": "code",
      "source": [
        "def convert_question_mark(value):\n",
        "  if value == \"?\":\n",
        "    return None\n",
        "  else:\n",
        "    return value"
      ],
      "metadata": {
        "id": "jNhY7bdgKhDd"
      },
      "execution_count": 5,
      "outputs": []
    },
    {
      "cell_type": "code",
      "source": [
        "data = data.applymap(convert_question_mark)"
      ],
      "metadata": {
        "id": "nk8ffMbGKU0o"
      },
      "execution_count": 6,
      "outputs": []
    },
    {
      "cell_type": "code",
      "source": [
        "continues_columns = [\"A2\", \"A3\", \"A8\", \"A11\", \"A14\", \"A15\"]\n",
        "discreate_columns = [\"A1\", \"A4\", \"A5\", \"A6\", \"A7\", \"A9\", \"A10\", \"A12\", \"A13\", \"A16\"]\n",
        "feature_columns = [\"A1\", \"A2\", \"A3\", \"A4\", \"A5\", \"A6\", \"A7\", \"A8\", \"A9\", \"A10\", \"A11\", \"A12\", \"A13\", \"A14\", \"A15\"]"
      ],
      "metadata": {
        "id": "UYachqoS-sZC"
      },
      "execution_count": 7,
      "outputs": []
    },
    {
      "cell_type": "code",
      "source": [
        "data[continues_columns] = data[continues_columns].astype(float)\n",
        "data[continues_columns] = data[continues_columns].fillna(data[continues_columns].mean())\n",
        "#data[continues_columns] = (data[continues_columns]-data[continues_columns].mean())/data[continues_columns].std()"
      ],
      "metadata": {
        "id": "aaflaW05MWvG"
      },
      "execution_count": 8,
      "outputs": []
    },
    {
      "cell_type": "code",
      "source": [
        "data[discreate_columns] = data[discreate_columns].fillna(data[discreate_columns].mode().iloc[0])\n",
        "data[discreate_columns] = data[discreate_columns].apply(lambda col:pd.Categorical(col).codes)"
      ],
      "metadata": {
        "id": "wc6qp6kGJ9Z_"
      },
      "execution_count": 9,
      "outputs": []
    },
    {
      "cell_type": "code",
      "source": [
        "data[feature_columns] = (data[feature_columns]-data[feature_columns].mean())/data[feature_columns].std()"
      ],
      "metadata": {
        "id": "cCDEDZ0EHRs2"
      },
      "execution_count": 10,
      "outputs": []
    },
    {
      "cell_type": "code",
      "source": [
        "data"
      ],
      "metadata": {
        "colab": {
          "base_uri": "https://localhost:8080/",
          "height": 423
        },
        "id": "nv1i1G_-T3bq",
        "outputId": "b2ca8297-e11f-4a8c-8557-0f6c7bf20060"
      },
      "execution_count": 11,
      "outputs": [
        {
          "output_type": "execute_result",
          "data": {
            "text/html": [
              "\n",
              "  <div id=\"df-33156951-0449-4f54-8859-c975d298458b\">\n",
              "    <div class=\"colab-df-container\">\n",
              "      <div>\n",
              "<style scoped>\n",
              "    .dataframe tbody tr th:only-of-type {\n",
              "        vertical-align: middle;\n",
              "    }\n",
              "\n",
              "    .dataframe tbody tr th {\n",
              "        vertical-align: top;\n",
              "    }\n",
              "\n",
              "    .dataframe thead th {\n",
              "        text-align: right;\n",
              "    }\n",
              "</style>\n",
              "<table border=\"1\" class=\"dataframe\">\n",
              "  <thead>\n",
              "    <tr style=\"text-align: right;\">\n",
              "      <th></th>\n",
              "      <th>A1</th>\n",
              "      <th>A2</th>\n",
              "      <th>A3</th>\n",
              "      <th>A4</th>\n",
              "      <th>A5</th>\n",
              "      <th>A6</th>\n",
              "      <th>A7</th>\n",
              "      <th>A8</th>\n",
              "      <th>A9</th>\n",
              "      <th>A10</th>\n",
              "      <th>A11</th>\n",
              "      <th>A12</th>\n",
              "      <th>A13</th>\n",
              "      <th>A14</th>\n",
              "      <th>A15</th>\n",
              "      <th>A16</th>\n",
              "    </tr>\n",
              "  </thead>\n",
              "  <tbody>\n",
              "    <tr>\n",
              "      <th>0</th>\n",
              "      <td>0.660958</td>\n",
              "      <td>-0.062276</td>\n",
              "      <td>-0.955920</td>\n",
              "      <td>-0.542556</td>\n",
              "      <td>-0.559093</td>\n",
              "      <td>1.470327</td>\n",
              "      <td>0.757329</td>\n",
              "      <td>-0.290872</td>\n",
              "      <td>0.953958</td>\n",
              "      <td>1.156306</td>\n",
              "      <td>-0.287892</td>\n",
              "      <td>-0.918529</td>\n",
              "      <td>-0.316941</td>\n",
              "      <td>0.104469</td>\n",
              "      <td>-0.195272</td>\n",
              "      <td>0</td>\n",
              "    </tr>\n",
              "    <tr>\n",
              "      <th>1</th>\n",
              "      <td>-1.510762</td>\n",
              "      <td>2.286443</td>\n",
              "      <td>-0.060007</td>\n",
              "      <td>-0.542556</td>\n",
              "      <td>-0.559093</td>\n",
              "      <td>1.003664</td>\n",
              "      <td>-0.835832</td>\n",
              "      <td>0.244013</td>\n",
              "      <td>0.953958</td>\n",
              "      <td>1.156306</td>\n",
              "      <td>0.740293</td>\n",
              "      <td>-0.918529</td>\n",
              "      <td>-0.316941</td>\n",
              "      <td>-0.819095</td>\n",
              "      <td>-0.087788</td>\n",
              "      <td>0</td>\n",
              "    </tr>\n",
              "    <tr>\n",
              "      <th>2</th>\n",
              "      <td>-1.510762</td>\n",
              "      <td>-0.596305</td>\n",
              "      <td>-0.855481</td>\n",
              "      <td>-0.542556</td>\n",
              "      <td>-0.559093</td>\n",
              "      <td>1.003664</td>\n",
              "      <td>-0.835832</td>\n",
              "      <td>-0.216167</td>\n",
              "      <td>0.953958</td>\n",
              "      <td>-0.863570</td>\n",
              "      <td>-0.493529</td>\n",
              "      <td>-0.918529</td>\n",
              "      <td>-0.316941</td>\n",
              "      <td>0.557537</td>\n",
              "      <td>-0.037117</td>\n",
              "      <td>0</td>\n",
              "    </tr>\n",
              "    <tr>\n",
              "      <th>3</th>\n",
              "      <td>0.660958</td>\n",
              "      <td>-0.315370</td>\n",
              "      <td>-0.646569</td>\n",
              "      <td>-0.542556</td>\n",
              "      <td>-0.559093</td>\n",
              "      <td>1.470327</td>\n",
              "      <td>0.757329</td>\n",
              "      <td>0.456175</td>\n",
              "      <td>0.953958</td>\n",
              "      <td>1.156306</td>\n",
              "      <td>0.534656</td>\n",
              "      <td>1.087120</td>\n",
              "      <td>-0.316941</td>\n",
              "      <td>-0.488006</td>\n",
              "      <td>-0.194696</td>\n",
              "      <td>0</td>\n",
              "    </tr>\n",
              "    <tr>\n",
              "      <th>4</th>\n",
              "      <td>0.660958</td>\n",
              "      <td>-0.961605</td>\n",
              "      <td>0.174015</td>\n",
              "      <td>-0.542556</td>\n",
              "      <td>-0.559093</td>\n",
              "      <td>1.470327</td>\n",
              "      <td>0.757329</td>\n",
              "      <td>-0.153415</td>\n",
              "      <td>0.953958</td>\n",
              "      <td>-0.863570</td>\n",
              "      <td>-0.493529</td>\n",
              "      <td>-0.918529</td>\n",
              "      <td>3.268131</td>\n",
              "      <td>-0.371835</td>\n",
              "      <td>-0.195272</td>\n",
              "      <td>0</td>\n",
              "    </tr>\n",
              "    <tr>\n",
              "      <th>...</th>\n",
              "      <td>...</td>\n",
              "      <td>...</td>\n",
              "      <td>...</td>\n",
              "      <td>...</td>\n",
              "      <td>...</td>\n",
              "      <td>...</td>\n",
              "      <td>...</td>\n",
              "      <td>...</td>\n",
              "      <td>...</td>\n",
              "      <td>...</td>\n",
              "      <td>...</td>\n",
              "      <td>...</td>\n",
              "      <td>...</td>\n",
              "      <td>...</td>\n",
              "      <td>...</td>\n",
              "      <td>...</td>\n",
              "    </tr>\n",
              "    <tr>\n",
              "      <th>685</th>\n",
              "      <td>0.660958</td>\n",
              "      <td>-0.884833</td>\n",
              "      <td>1.069928</td>\n",
              "      <td>1.782685</td>\n",
              "      <td>1.793190</td>\n",
              "      <td>-0.396325</td>\n",
              "      <td>-0.835832</td>\n",
              "      <td>-0.290872</td>\n",
              "      <td>-1.046745</td>\n",
              "      <td>-0.863570</td>\n",
              "      <td>-0.493529</td>\n",
              "      <td>-0.918529</td>\n",
              "      <td>-0.316941</td>\n",
              "      <td>0.441366</td>\n",
              "      <td>-0.195272</td>\n",
              "      <td>1</td>\n",
              "    </tr>\n",
              "    <tr>\n",
              "      <th>686</th>\n",
              "      <td>-1.510762</td>\n",
              "      <td>-0.750693</td>\n",
              "      <td>-0.805262</td>\n",
              "      <td>-0.542556</td>\n",
              "      <td>-0.559093</td>\n",
              "      <td>-1.096320</td>\n",
              "      <td>0.757329</td>\n",
              "      <td>-0.066758</td>\n",
              "      <td>-1.046745</td>\n",
              "      <td>1.156306</td>\n",
              "      <td>-0.082255</td>\n",
              "      <td>1.087120</td>\n",
              "      <td>-0.316941</td>\n",
              "      <td>0.092851</td>\n",
              "      <td>-0.119649</td>\n",
              "      <td>1</td>\n",
              "    </tr>\n",
              "    <tr>\n",
              "      <th>687</th>\n",
              "      <td>-1.510762</td>\n",
              "      <td>-0.533032</td>\n",
              "      <td>1.755924</td>\n",
              "      <td>1.782685</td>\n",
              "      <td>1.793190</td>\n",
              "      <td>-0.162994</td>\n",
              "      <td>-1.234123</td>\n",
              "      <td>-0.066758</td>\n",
              "      <td>-1.046745</td>\n",
              "      <td>1.156306</td>\n",
              "      <td>-0.287892</td>\n",
              "      <td>1.087120</td>\n",
              "      <td>-0.316941</td>\n",
              "      <td>0.092851</td>\n",
              "      <td>-0.195080</td>\n",
              "      <td>1</td>\n",
              "    </tr>\n",
              "    <tr>\n",
              "      <th>688</th>\n",
              "      <td>0.660958</td>\n",
              "      <td>-1.151426</td>\n",
              "      <td>-0.914740</td>\n",
              "      <td>-0.542556</td>\n",
              "      <td>-0.559093</td>\n",
              "      <td>-1.329652</td>\n",
              "      <td>0.757329</td>\n",
              "      <td>-0.652442</td>\n",
              "      <td>-1.046745</td>\n",
              "      <td>-0.863570</td>\n",
              "      <td>-0.493529</td>\n",
              "      <td>-0.918529</td>\n",
              "      <td>-0.316941</td>\n",
              "      <td>0.557537</td>\n",
              "      <td>-0.051321</td>\n",
              "      <td>1</td>\n",
              "    </tr>\n",
              "    <tr>\n",
              "      <th>689</th>\n",
              "      <td>0.660958</td>\n",
              "      <td>0.289526</td>\n",
              "      <td>-0.277959</td>\n",
              "      <td>-0.542556</td>\n",
              "      <td>-0.559093</td>\n",
              "      <td>-1.096320</td>\n",
              "      <td>-0.835832</td>\n",
              "      <td>1.812810</td>\n",
              "      <td>-1.046745</td>\n",
              "      <td>-0.863570</td>\n",
              "      <td>-0.493529</td>\n",
              "      <td>1.087120</td>\n",
              "      <td>-0.316941</td>\n",
              "      <td>-1.068864</td>\n",
              "      <td>-0.195272</td>\n",
              "      <td>1</td>\n",
              "    </tr>\n",
              "  </tbody>\n",
              "</table>\n",
              "<p>690 rows × 16 columns</p>\n",
              "</div>\n",
              "      <button class=\"colab-df-convert\" onclick=\"convertToInteractive('df-33156951-0449-4f54-8859-c975d298458b')\"\n",
              "              title=\"Convert this dataframe to an interactive table.\"\n",
              "              style=\"display:none;\">\n",
              "        \n",
              "  <svg xmlns=\"http://www.w3.org/2000/svg\" height=\"24px\"viewBox=\"0 0 24 24\"\n",
              "       width=\"24px\">\n",
              "    <path d=\"M0 0h24v24H0V0z\" fill=\"none\"/>\n",
              "    <path d=\"M18.56 5.44l.94 2.06.94-2.06 2.06-.94-2.06-.94-.94-2.06-.94 2.06-2.06.94zm-11 1L8.5 8.5l.94-2.06 2.06-.94-2.06-.94L8.5 2.5l-.94 2.06-2.06.94zm10 10l.94 2.06.94-2.06 2.06-.94-2.06-.94-.94-2.06-.94 2.06-2.06.94z\"/><path d=\"M17.41 7.96l-1.37-1.37c-.4-.4-.92-.59-1.43-.59-.52 0-1.04.2-1.43.59L10.3 9.45l-7.72 7.72c-.78.78-.78 2.05 0 2.83L4 21.41c.39.39.9.59 1.41.59.51 0 1.02-.2 1.41-.59l7.78-7.78 2.81-2.81c.8-.78.8-2.07 0-2.86zM5.41 20L4 18.59l7.72-7.72 1.47 1.35L5.41 20z\"/>\n",
              "  </svg>\n",
              "      </button>\n",
              "      \n",
              "  <style>\n",
              "    .colab-df-container {\n",
              "      display:flex;\n",
              "      flex-wrap:wrap;\n",
              "      gap: 12px;\n",
              "    }\n",
              "\n",
              "    .colab-df-convert {\n",
              "      background-color: #E8F0FE;\n",
              "      border: none;\n",
              "      border-radius: 50%;\n",
              "      cursor: pointer;\n",
              "      display: none;\n",
              "      fill: #1967D2;\n",
              "      height: 32px;\n",
              "      padding: 0 0 0 0;\n",
              "      width: 32px;\n",
              "    }\n",
              "\n",
              "    .colab-df-convert:hover {\n",
              "      background-color: #E2EBFA;\n",
              "      box-shadow: 0px 1px 2px rgba(60, 64, 67, 0.3), 0px 1px 3px 1px rgba(60, 64, 67, 0.15);\n",
              "      fill: #174EA6;\n",
              "    }\n",
              "\n",
              "    [theme=dark] .colab-df-convert {\n",
              "      background-color: #3B4455;\n",
              "      fill: #D2E3FC;\n",
              "    }\n",
              "\n",
              "    [theme=dark] .colab-df-convert:hover {\n",
              "      background-color: #434B5C;\n",
              "      box-shadow: 0px 1px 3px 1px rgba(0, 0, 0, 0.15);\n",
              "      filter: drop-shadow(0px 1px 2px rgba(0, 0, 0, 0.3));\n",
              "      fill: #FFFFFF;\n",
              "    }\n",
              "  </style>\n",
              "\n",
              "      <script>\n",
              "        const buttonEl =\n",
              "          document.querySelector('#df-33156951-0449-4f54-8859-c975d298458b button.colab-df-convert');\n",
              "        buttonEl.style.display =\n",
              "          google.colab.kernel.accessAllowed ? 'block' : 'none';\n",
              "\n",
              "        async function convertToInteractive(key) {\n",
              "          const element = document.querySelector('#df-33156951-0449-4f54-8859-c975d298458b');\n",
              "          const dataTable =\n",
              "            await google.colab.kernel.invokeFunction('convertToInteractive',\n",
              "                                                     [key], {});\n",
              "          if (!dataTable) return;\n",
              "\n",
              "          const docLinkHtml = 'Like what you see? Visit the ' +\n",
              "            '<a target=\"_blank\" href=https://colab.research.google.com/notebooks/data_table.ipynb>data table notebook</a>'\n",
              "            + ' to learn more about interactive tables.';\n",
              "          element.innerHTML = '';\n",
              "          dataTable['output_type'] = 'display_data';\n",
              "          await google.colab.output.renderOutput(dataTable, element);\n",
              "          const docLink = document.createElement('div');\n",
              "          docLink.innerHTML = docLinkHtml;\n",
              "          element.appendChild(docLink);\n",
              "        }\n",
              "      </script>\n",
              "    </div>\n",
              "  </div>\n",
              "  "
            ],
            "text/plain": [
              "           A1        A2        A3        A4  ...       A13       A14       A15  A16\n",
              "0    0.660958 -0.062276 -0.955920 -0.542556  ... -0.316941  0.104469 -0.195272    0\n",
              "1   -1.510762  2.286443 -0.060007 -0.542556  ... -0.316941 -0.819095 -0.087788    0\n",
              "2   -1.510762 -0.596305 -0.855481 -0.542556  ... -0.316941  0.557537 -0.037117    0\n",
              "3    0.660958 -0.315370 -0.646569 -0.542556  ... -0.316941 -0.488006 -0.194696    0\n",
              "4    0.660958 -0.961605  0.174015 -0.542556  ...  3.268131 -0.371835 -0.195272    0\n",
              "..        ...       ...       ...       ...  ...       ...       ...       ...  ...\n",
              "685  0.660958 -0.884833  1.069928  1.782685  ... -0.316941  0.441366 -0.195272    1\n",
              "686 -1.510762 -0.750693 -0.805262 -0.542556  ... -0.316941  0.092851 -0.119649    1\n",
              "687 -1.510762 -0.533032  1.755924  1.782685  ... -0.316941  0.092851 -0.195080    1\n",
              "688  0.660958 -1.151426 -0.914740 -0.542556  ... -0.316941  0.557537 -0.051321    1\n",
              "689  0.660958  0.289526 -0.277959 -0.542556  ... -0.316941 -1.068864 -0.195272    1\n",
              "\n",
              "[690 rows x 16 columns]"
            ]
          },
          "metadata": {},
          "execution_count": 11
        }
      ]
    },
    {
      "cell_type": "code",
      "source": [
        "data.isna().any()"
      ],
      "metadata": {
        "colab": {
          "base_uri": "https://localhost:8080/"
        },
        "id": "qteGeVUiJy5O",
        "outputId": "a9d4f999-1575-4185-d328-3390b391ec9b"
      },
      "execution_count": 12,
      "outputs": [
        {
          "output_type": "execute_result",
          "data": {
            "text/plain": [
              "A1     False\n",
              "A2     False\n",
              "A3     False\n",
              "A4     False\n",
              "A5     False\n",
              "A6     False\n",
              "A7     False\n",
              "A8     False\n",
              "A9     False\n",
              "A10    False\n",
              "A11    False\n",
              "A12    False\n",
              "A13    False\n",
              "A14    False\n",
              "A15    False\n",
              "A16    False\n",
              "dtype: bool"
            ]
          },
          "metadata": {},
          "execution_count": 12
        }
      ]
    },
    {
      "cell_type": "markdown",
      "source": [
        "# Shuffling and Splitting"
      ],
      "metadata": {
        "id": "F6-fAIpnkaiE"
      }
    },
    {
      "cell_type": "code",
      "source": [
        "train_data, valid_data, test_data = np.split(data.sample(frac=1, random_state=0), [int(.7*len(data)), int(.8*len(data))])"
      ],
      "metadata": {
        "id": "QYSykH89UAs7"
      },
      "execution_count": 13,
      "outputs": []
    },
    {
      "cell_type": "code",
      "source": [
        "X_train = train_data[feature_columns]\n",
        "Y_train = train_data[\"A16\"]\n",
        "\n",
        "X_valid = valid_data[feature_columns]\n",
        "Y_valid = valid_data[\"A16\"]\n",
        "\n",
        "X_test = test_data[feature_columns]\n",
        "Y_test = test_data[\"A16\"]"
      ],
      "metadata": {
        "id": "n3VgMU3lIMXs"
      },
      "execution_count": 24,
      "outputs": []
    },
    {
      "cell_type": "markdown",
      "source": [
        "# Plotting"
      ],
      "metadata": {
        "id": "dU0j3nzQked8"
      }
    },
    {
      "cell_type": "code",
      "source": [
        "plt.scatter(data[data[\"A16\"]==1][\"A1\"], data[data[\"A16\"]==1][\"A2\"])\n",
        "plt.scatter(data[data[\"A16\"]==0][\"A1\"], data[data[\"A16\"]==0][\"A2\"])"
      ],
      "metadata": {
        "colab": {
          "base_uri": "https://localhost:8080/",
          "height": 282
        },
        "id": "gj2KalbVkizW",
        "outputId": "2a0a34d0-1075-4dca-b1dd-6053cc706d9c"
      },
      "execution_count": 14,
      "outputs": [
        {
          "output_type": "execute_result",
          "data": {
            "text/plain": [
              "<matplotlib.collections.PathCollection at 0x7efc4c5ac250>"
            ]
          },
          "metadata": {},
          "execution_count": 14
        },
        {
          "output_type": "display_data",
          "data": {
            "image/png": "[encoded data removed]",
            "text/plain": [
              "<Figure size 432x288 with 1 Axes>"
            ]
          },
          "metadata": {
            "needs_background": "light"
          }
        }
      ]
    },
    {
      "cell_type": "code",
      "source": [
        "pca = PCA(n_components=2)"
      ],
      "metadata": {
        "id": "wP2R_IpVlQCP"
      },
      "execution_count": 49,
      "outputs": []
    },
    {
      "cell_type": "code",
      "source": [
        "pca.fit(data.drop(columns=[\"A16\"]))"
      ],
      "metadata": {
        "colab": {
          "base_uri": "https://localhost:8080/"
        },
        "id": "WqN9xdtpmOvv",
        "outputId": "d0ac1480-a174-429f-e039-ff0c2ca4a62d"
      },
      "execution_count": 50,
      "outputs": [
        {
          "output_type": "execute_result",
          "data": {
            "text/plain": [
              "PCA(n_components=2)"
            ]
          },
          "metadata": {},
          "execution_count": 50
        }
      ]
    },
    {
      "cell_type": "code",
      "source": [
        ""
      ],
      "metadata": {
        "id": "VXP0ZJTCoPjz"
      },
      "execution_count": null,
      "outputs": []
    },
    {
      "cell_type": "code",
      "source": [
        "data_t = pca.transform(data[data[\"A16\"]==1].drop(columns=[\"A16\"]))\n",
        "plt.scatter(data_t[:,0], data_t[:,1])\n",
        "\n",
        "data_t = pca.transform(data[data[\"A16\"]==0].drop(columns=[\"A16\"]))\n",
        "plt.scatter(data_t[:,0], data_t[:,1])"
      ],
      "metadata": {
        "colab": {
          "base_uri": "https://localhost:8080/",
          "height": 285
        },
        "id": "kGUCxzdOmYM_",
        "outputId": "a0b18909-cb95-4626-cfbf-0a801f2ef093"
      },
      "execution_count": 56,
      "outputs": [
        {
          "output_type": "execute_result",
          "data": {
            "text/plain": [
              "<matplotlib.collections.PathCollection at 0x7f253c551610>"
            ]
          },
          "metadata": {},
          "execution_count": 56
        },
        {
          "output_type": "display_data",
          "data": {
            "image/png": "[encoded data removed]",
            "text/plain": [
              "<Figure size 432x288 with 1 Axes>"
            ]
          },
          "metadata": {
            "needs_background": "light"
          }
        }
      ]
    },
    {
      "cell_type": "code",
      "source": [
        "print(max(lda.transform(data[data[\"A16\"]==0].drop(columns=[\"A16\"]))))\n",
        "print(min(lda.transform(data[data[\"A16\"]==0].drop(columns=[\"A16\"]))))"
      ],
      "metadata": {
        "colab": {
          "base_uri": "https://localhost:8080/"
        },
        "id": "EPp-It58mfJp",
        "outputId": "0f33650a-a48f-43b2-eb1c-db66c04a6f0c"
      },
      "execution_count": 45,
      "outputs": [
        {
          "output_type": "stream",
          "name": "stdout",
          "text": [
            "[2.16756797]\n",
            "[-3.48805656]\n"
          ]
        }
      ]
    },
    {
      "cell_type": "code",
      "source": [
        "print(min(lda.transform(data[data[\"A16\"]==1].drop(columns=[\"A16\"]))))\n",
        "print(max(lda.transform(data[data[\"A16\"]==1].drop(columns=[\"A16\"]))))"
      ],
      "metadata": {
        "colab": {
          "base_uri": "https://localhost:8080/"
        },
        "id": "85M0QGGHnGAF",
        "outputId": "9cc3627e-55c8-4cdb-e9a0-a33fbe268e8c"
      },
      "execution_count": 46,
      "outputs": [
        {
          "output_type": "stream",
          "name": "stdout",
          "text": [
            "[-1.99280679]\n",
            "[2.44483627]\n"
          ]
        }
      ]
    },
    {
      "cell_type": "markdown",
      "source": [
        "# Neural Network"
      ],
      "metadata": {
        "id": "qMsmz1Qvt0Ot"
      }
    },
    {
      "cell_type": "code",
      "source": [
        "from tensorflow import keras"
      ],
      "metadata": {
        "id": "jdrSZSAWt2CV"
      },
      "execution_count": 15,
      "outputs": []
    },
    {
      "cell_type": "code",
      "source": [
        "model = keras.models.Sequential([\n",
        "                                 keras.layers.Dense(units=128, activation=\"relu\", name=\"Dense_Layer_1\"),\n",
        "                                 keras.layers.Dense(units=16, activation=\"relu\", name=\"Dense_Layer_2\"),\n",
        "                                 keras.layers.Dense(2, activation=\"softmax\", name=\"Output_Layer\")\n",
        "])"
      ],
      "metadata": {
        "id": "XR1lJojZzu_U"
      },
      "execution_count": 27,
      "outputs": []
    },
    {
      "cell_type": "code",
      "source": [
        "model.compile(optimizer=\"adam\", loss=\"sparse_categorical_crossentropy\", metrics=[\"accuracy\"])"
      ],
      "metadata": {
        "id": "t_4KqkNG0d9P"
      },
      "execution_count": 28,
      "outputs": []
    },
    {
      "cell_type": "code",
      "source": [
        "model.fit(x=X_train, y=Y_train, epochs=20, validation_data=(X_valid, Y_valid))"
      ],
      "metadata": {
        "colab": {
          "base_uri": "https://localhost:8080/"
        },
        "id": "R99sAIBw06Pa",
        "outputId": "3a2eec5e-6999-4d9e-ff81-69f0a82ba215"
      },
      "execution_count": 29,
      "outputs": [
        {
          "output_type": "stream",
          "name": "stdout",
          "text": [
            "Epoch 1/20\n",
            "16/16 [==============================] - 1s 16ms/step - loss: 0.6469 - accuracy: 0.6473 - val_loss: 0.5595 - val_accuracy: 0.8571\n",
            "Epoch 2/20\n",
            "16/16 [==============================] - 0s 3ms/step - loss: 0.5302 - accuracy: 0.8320 - val_loss: 0.4458 - val_accuracy: 0.8571\n",
            "Epoch 3/20\n",
            "16/16 [==============================] - 0s 4ms/step - loss: 0.4391 - accuracy: 0.8568 - val_loss: 0.3527 - val_accuracy: 0.8571\n",
            "Epoch 4/20\n",
            "16/16 [==============================] - 0s 4ms/step - loss: 0.3741 - accuracy: 0.8693 - val_loss: 0.3061 - val_accuracy: 0.8857\n",
            "Epoch 5/20\n",
            "16/16 [==============================] - 0s 4ms/step - loss: 0.3351 - accuracy: 0.8880 - val_loss: 0.2859 - val_accuracy: 0.8714\n",
            "Epoch 6/20\n",
            "16/16 [==============================] - 0s 4ms/step - loss: 0.3116 - accuracy: 0.8838 - val_loss: 0.2824 - val_accuracy: 0.8857\n",
            "Epoch 7/20\n",
            "16/16 [==============================] - 0s 5ms/step - loss: 0.2987 - accuracy: 0.8942 - val_loss: 0.2745 - val_accuracy: 0.8857\n",
            "Epoch 8/20\n",
            "16/16 [==============================] - 0s 3ms/step - loss: 0.2859 - accuracy: 0.9066 - val_loss: 0.2712 - val_accuracy: 0.8857\n",
            "Epoch 9/20\n",
            "16/16 [==============================] - 0s 3ms/step - loss: 0.2776 - accuracy: 0.9046 - val_loss: 0.2737 - val_accuracy: 0.8857\n",
            "Epoch 10/20\n",
            "16/16 [==============================] - 0s 5ms/step - loss: 0.2703 - accuracy: 0.9004 - val_loss: 0.2729 - val_accuracy: 0.8857\n",
            "Epoch 11/20\n",
            "16/16 [==============================] - 0s 4ms/step - loss: 0.2642 - accuracy: 0.9046 - val_loss: 0.2755 - val_accuracy: 0.8857\n",
            "Epoch 12/20\n",
            "16/16 [==============================] - 0s 3ms/step - loss: 0.2665 - accuracy: 0.9004 - val_loss: 0.2781 - val_accuracy: 0.8714\n",
            "Epoch 13/20\n",
            "16/16 [==============================] - 0s 4ms/step - loss: 0.2564 - accuracy: 0.9108 - val_loss: 0.2670 - val_accuracy: 0.8714\n",
            "Epoch 14/20\n",
            "16/16 [==============================] - 0s 5ms/step - loss: 0.2496 - accuracy: 0.9149 - val_loss: 0.2724 - val_accuracy: 0.8714\n",
            "Epoch 15/20\n",
            "16/16 [==============================] - 0s 3ms/step - loss: 0.2436 - accuracy: 0.9108 - val_loss: 0.2762 - val_accuracy: 0.8714\n",
            "Epoch 16/20\n",
            "16/16 [==============================] - 0s 4ms/step - loss: 0.2399 - accuracy: 0.9191 - val_loss: 0.2770 - val_accuracy: 0.8571\n",
            "Epoch 17/20\n",
            "16/16 [==============================] - 0s 3ms/step - loss: 0.2364 - accuracy: 0.9129 - val_loss: 0.2799 - val_accuracy: 0.8714\n",
            "Epoch 18/20\n",
            "16/16 [==============================] - 0s 5ms/step - loss: 0.2318 - accuracy: 0.9129 - val_loss: 0.2821 - val_accuracy: 0.8714\n",
            "Epoch 19/20\n",
            "16/16 [==============================] - 0s 5ms/step - loss: 0.2285 - accuracy: 0.9212 - val_loss: 0.2787 - val_accuracy: 0.8714\n",
            "Epoch 20/20\n",
            "16/16 [==============================] - 0s 5ms/step - loss: 0.2229 - accuracy: 0.9232 - val_loss: 0.2793 - val_accuracy: 0.8714\n"
          ]
        },
        {
          "output_type": "execute_result",
          "data": {
            "text/plain": [
              "<keras.callbacks.History at 0x7efc44da8390>"
            ]
          },
          "metadata": {},
          "execution_count": 29
        }
      ]
    },
    {
      "cell_type": "code",
      "source": [
        "keras.utils.plot_model(model, show_layer_activations=True, show_shapes=True, show_layer_names=True)"
      ],
      "metadata": {
        "colab": {
          "base_uri": "https://localhost:8080/",
          "height": 422
        },
        "id": "M3kibYYlIWFR",
        "outputId": "d03d635b-75f1-4525-8584-3b9fc3eb33a8"
      },
      "execution_count": 31,
      "outputs": [
        {
          "output_type": "execute_result",
          "data": {
            "image/png": "[encoded data removed]",
            "text/plain": [
              "<IPython.core.display.Image object>"
            ]
          },
          "metadata": {},
          "execution_count": 31
        }
      ]
    },
    {
      "cell_type": "code",
      "source": [
        ""
      ],
      "metadata": {
        "id": "PXBH3WXly_lm"
      },
      "execution_count": null,
      "outputs": []
    }
  ]
}